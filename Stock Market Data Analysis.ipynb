{
 "cells": [
  {
   "cell_type": "code",
   "execution_count": 1,
   "id": "a2cac8e4-2e23-4eda-8496-337fcfa55875",
   "metadata": {},
   "outputs": [],
   "source": [
    "import pandas as pd\n",
    "import numpy as np\n",
    "import matplotlib.pyplot as plt\n",
    "import seaborn as sns\n",
    "from sklearn.model_selection import train_test_split\n",
    "from sklearn.linear_model import LinearRegression\n",
    "from sklearn.metrics import mean_absolute_error,mean_squared_error,r2_score\n",
    "from scipy.stats import zscore"
   ]
  },
  {
   "cell_type": "code",
   "execution_count": 2,
   "id": "e0e93cc8-db72-48dd-8cbe-938d53622ea9",
   "metadata": {},
   "outputs": [
    {
     "data": {
      "text/html": [
       "<div>\n",
       "<style scoped>\n",
       "    .dataframe tbody tr th:only-of-type {\n",
       "        vertical-align: middle;\n",
       "    }\n",
       "\n",
       "    .dataframe tbody tr th {\n",
       "        vertical-align: top;\n",
       "    }\n",
       "\n",
       "    .dataframe thead th {\n",
       "        text-align: right;\n",
       "    }\n",
       "</style>\n",
       "<table border=\"1\" class=\"dataframe\">\n",
       "  <thead>\n",
       "    <tr style=\"text-align: right;\">\n",
       "      <th></th>\n",
       "      <th>date</th>\n",
       "      <th>open</th>\n",
       "      <th>high</th>\n",
       "      <th>low</th>\n",
       "      <th>close</th>\n",
       "      <th>volume</th>\n",
       "      <th>Name</th>\n",
       "    </tr>\n",
       "  </thead>\n",
       "  <tbody>\n",
       "    <tr>\n",
       "      <th>0</th>\n",
       "      <td>2013-02-08</td>\n",
       "      <td>15.07</td>\n",
       "      <td>15.12</td>\n",
       "      <td>14.63</td>\n",
       "      <td>14.75</td>\n",
       "      <td>8407500</td>\n",
       "      <td>AAL</td>\n",
       "    </tr>\n",
       "    <tr>\n",
       "      <th>1</th>\n",
       "      <td>2013-02-11</td>\n",
       "      <td>14.89</td>\n",
       "      <td>15.01</td>\n",
       "      <td>14.26</td>\n",
       "      <td>14.46</td>\n",
       "      <td>8882000</td>\n",
       "      <td>AAL</td>\n",
       "    </tr>\n",
       "    <tr>\n",
       "      <th>2</th>\n",
       "      <td>2013-02-12</td>\n",
       "      <td>14.45</td>\n",
       "      <td>14.51</td>\n",
       "      <td>14.10</td>\n",
       "      <td>14.27</td>\n",
       "      <td>8126000</td>\n",
       "      <td>AAL</td>\n",
       "    </tr>\n",
       "    <tr>\n",
       "      <th>3</th>\n",
       "      <td>2013-02-13</td>\n",
       "      <td>14.30</td>\n",
       "      <td>14.94</td>\n",
       "      <td>14.25</td>\n",
       "      <td>14.66</td>\n",
       "      <td>10259500</td>\n",
       "      <td>AAL</td>\n",
       "    </tr>\n",
       "    <tr>\n",
       "      <th>4</th>\n",
       "      <td>2013-02-14</td>\n",
       "      <td>14.94</td>\n",
       "      <td>14.96</td>\n",
       "      <td>13.16</td>\n",
       "      <td>13.99</td>\n",
       "      <td>31879900</td>\n",
       "      <td>AAL</td>\n",
       "    </tr>\n",
       "  </tbody>\n",
       "</table>\n",
       "</div>"
      ],
      "text/plain": [
       "         date   open   high    low  close    volume Name\n",
       "0  2013-02-08  15.07  15.12  14.63  14.75   8407500  AAL\n",
       "1  2013-02-11  14.89  15.01  14.26  14.46   8882000  AAL\n",
       "2  2013-02-12  14.45  14.51  14.10  14.27   8126000  AAL\n",
       "3  2013-02-13  14.30  14.94  14.25  14.66  10259500  AAL\n",
       "4  2013-02-14  14.94  14.96  13.16  13.99  31879900  AAL"
      ]
     },
     "execution_count": 2,
     "metadata": {},
     "output_type": "execute_result"
    }
   ],
   "source": [
    "df=pd.read_csv(\"all_stocks_5yr.csv\")\n",
    "df.head()"
   ]
  },
  {
   "cell_type": "code",
   "execution_count": 3,
   "id": "c491c40c-6363-453a-acd0-65a141252076",
   "metadata": {},
   "outputs": [
    {
     "name": "stdout",
     "output_type": "stream",
     "text": [
      "<class 'pandas.core.frame.DataFrame'>\n",
      "RangeIndex: 619040 entries, 0 to 619039\n",
      "Data columns (total 7 columns):\n",
      " #   Column  Non-Null Count   Dtype  \n",
      "---  ------  --------------   -----  \n",
      " 0   date    619040 non-null  object \n",
      " 1   open    619029 non-null  float64\n",
      " 2   high    619032 non-null  float64\n",
      " 3   low     619032 non-null  float64\n",
      " 4   close   619040 non-null  float64\n",
      " 5   volume  619040 non-null  int64  \n",
      " 6   Name    619040 non-null  object \n",
      "dtypes: float64(4), int64(1), object(2)\n",
      "memory usage: 33.1+ MB\n"
     ]
    }
   ],
   "source": [
    "df.info()"
   ]
  },
  {
   "cell_type": "code",
   "execution_count": 4,
   "id": "c2026979-9e42-444b-b557-df4a38070091",
   "metadata": {},
   "outputs": [
    {
     "data": {
      "text/plain": [
       "0"
      ]
     },
     "execution_count": 4,
     "metadata": {},
     "output_type": "execute_result"
    }
   ],
   "source": [
    "df.duplicated().sum()"
   ]
  },
  {
   "cell_type": "code",
   "execution_count": 5,
   "id": "911f7180-d1ed-464d-8150-7c339b183bf0",
   "metadata": {},
   "outputs": [
    {
     "data": {
      "text/plain": [
       "date       0\n",
       "open      11\n",
       "high       8\n",
       "low        8\n",
       "close      0\n",
       "volume     0\n",
       "Name       0\n",
       "dtype: int64"
      ]
     },
     "execution_count": 5,
     "metadata": {},
     "output_type": "execute_result"
    }
   ],
   "source": [
    "#fillna \n",
    "df.isnull().sum()"
   ]
  },
  {
   "cell_type": "code",
   "execution_count": 6,
   "id": "f4aa22ec-f847-4889-9f74-00a4ada4d0c7",
   "metadata": {},
   "outputs": [],
   "source": [
    "me=df[\"open\"].mean()"
   ]
  },
  {
   "cell_type": "code",
   "execution_count": 7,
   "id": "e475b562-23fc-43f1-8f7b-cb68f8f95079",
   "metadata": {},
   "outputs": [
    {
     "data": {
      "text/plain": [
       "0"
      ]
     },
     "execution_count": 7,
     "metadata": {},
     "output_type": "execute_result"
    }
   ],
   "source": [
    "df[\"open\"]=df[\"open\"].fillna(me)\n",
    "df[\"open\"].isnull().sum()"
   ]
  },
  {
   "cell_type": "code",
   "execution_count": 8,
   "id": "29a5361d-75dd-4b5a-8687-4330a9fff180",
   "metadata": {},
   "outputs": [
    {
     "name": "stderr",
     "output_type": "stream",
     "text": [
      "C:\\Users\\rajat\\AppData\\Local\\Temp\\ipykernel_7112\\1986259490.py:1: FutureWarning: Series.fillna with 'method' is deprecated and will raise in a future version. Use obj.ffill() or obj.bfill() instead.\n",
      "  df[\"high\"]=df[\"high\"].fillna(method=\"bfill\")\n"
     ]
    },
    {
     "data": {
      "text/plain": [
       "0"
      ]
     },
     "execution_count": 8,
     "metadata": {},
     "output_type": "execute_result"
    }
   ],
   "source": [
    "df[\"high\"]=df[\"high\"].fillna(method=\"bfill\")\n",
    "df[\"high\"].isnull().sum()"
   ]
  },
  {
   "cell_type": "code",
   "execution_count": 9,
   "id": "c69af078-9917-45b1-ac33-ee160399ca80",
   "metadata": {},
   "outputs": [
    {
     "name": "stderr",
     "output_type": "stream",
     "text": [
      "C:\\Users\\rajat\\AppData\\Local\\Temp\\ipykernel_7112\\547246670.py:1: FutureWarning: Series.fillna with 'method' is deprecated and will raise in a future version. Use obj.ffill() or obj.bfill() instead.\n",
      "  df[\"low\"]=df[\"low\"].fillna(method=\"ffill\")\n"
     ]
    },
    {
     "data": {
      "text/plain": [
       "0"
      ]
     },
     "execution_count": 9,
     "metadata": {},
     "output_type": "execute_result"
    }
   ],
   "source": [
    "df[\"low\"]=df[\"low\"].fillna(method=\"ffill\")\n",
    "df[\"low\"].isnull().sum()\n"
   ]
  },
  {
   "cell_type": "code",
   "execution_count": 10,
   "id": "068a9ef0-7950-4037-b145-96e7f09b6a8e",
   "metadata": {},
   "outputs": [
    {
     "data": {
      "text/plain": [
       "date      0\n",
       "open      0\n",
       "high      0\n",
       "low       0\n",
       "close     0\n",
       "volume    0\n",
       "Name      0\n",
       "dtype: int64"
      ]
     },
     "execution_count": 10,
     "metadata": {},
     "output_type": "execute_result"
    }
   ],
   "source": [
    "df.isnull().sum()"
   ]
  },
  {
   "cell_type": "code",
   "execution_count": 11,
   "id": "ad3246b8-8e5c-4d86-80f0-b846430c3d96",
   "metadata": {},
   "outputs": [
    {
     "data": {
      "text/plain": [
       "Name\n",
       "AAL     1259\n",
       "NRG     1259\n",
       "NOC     1259\n",
       "NLSN    1259\n",
       "NKE     1259\n",
       "        ... \n",
       "DXC      215\n",
       "BHGE     152\n",
       "BHF      143\n",
       "DWDP     109\n",
       "APTV      44\n",
       "Name: count, Length: 505, dtype: int64"
      ]
     },
     "execution_count": 11,
     "metadata": {},
     "output_type": "execute_result"
    }
   ],
   "source": [
    "df[\"Name\"].value_counts()"
   ]
  },
  {
   "cell_type": "code",
   "execution_count": 12,
   "id": "8f6f331f-9b10-4790-b7cb-a9ff51762b5b",
   "metadata": {},
   "outputs": [
    {
     "name": "stdout",
     "output_type": "stream",
     "text": [
      "datetime64[ns]\n"
     ]
    }
   ],
   "source": [
    "df[\"date\"]=pd.to_datetime(df[\"date\"])\n",
    "print(df[\"date\"].dtype)"
   ]
  },
  {
   "cell_type": "code",
   "execution_count": 13,
   "id": "533b4e55-35e5-4de7-86c1-84e1d1394799",
   "metadata": {},
   "outputs": [],
   "source": [
    "X=df.iloc[:,[1,2,3,5]]\n",
    "y=df.iloc[:,4]"
   ]
  },
  {
   "cell_type": "code",
   "execution_count": 14,
   "id": "fbb79c37-6151-438d-903a-ac21be7f7f17",
   "metadata": {},
   "outputs": [
    {
     "data": {
      "text/html": [
       "<div>\n",
       "<style scoped>\n",
       "    .dataframe tbody tr th:only-of-type {\n",
       "        vertical-align: middle;\n",
       "    }\n",
       "\n",
       "    .dataframe tbody tr th {\n",
       "        vertical-align: top;\n",
       "    }\n",
       "\n",
       "    .dataframe thead th {\n",
       "        text-align: right;\n",
       "    }\n",
       "</style>\n",
       "<table border=\"1\" class=\"dataframe\">\n",
       "  <thead>\n",
       "    <tr style=\"text-align: right;\">\n",
       "      <th></th>\n",
       "      <th>open</th>\n",
       "      <th>high</th>\n",
       "      <th>low</th>\n",
       "      <th>volume</th>\n",
       "    </tr>\n",
       "  </thead>\n",
       "  <tbody>\n",
       "    <tr>\n",
       "      <th>0</th>\n",
       "      <td>15.07</td>\n",
       "      <td>15.12</td>\n",
       "      <td>14.63</td>\n",
       "      <td>8407500</td>\n",
       "    </tr>\n",
       "    <tr>\n",
       "      <th>1</th>\n",
       "      <td>14.89</td>\n",
       "      <td>15.01</td>\n",
       "      <td>14.26</td>\n",
       "      <td>8882000</td>\n",
       "    </tr>\n",
       "    <tr>\n",
       "      <th>2</th>\n",
       "      <td>14.45</td>\n",
       "      <td>14.51</td>\n",
       "      <td>14.10</td>\n",
       "      <td>8126000</td>\n",
       "    </tr>\n",
       "    <tr>\n",
       "      <th>3</th>\n",
       "      <td>14.30</td>\n",
       "      <td>14.94</td>\n",
       "      <td>14.25</td>\n",
       "      <td>10259500</td>\n",
       "    </tr>\n",
       "    <tr>\n",
       "      <th>4</th>\n",
       "      <td>14.94</td>\n",
       "      <td>14.96</td>\n",
       "      <td>13.16</td>\n",
       "      <td>31879900</td>\n",
       "    </tr>\n",
       "    <tr>\n",
       "      <th>...</th>\n",
       "      <td>...</td>\n",
       "      <td>...</td>\n",
       "      <td>...</td>\n",
       "      <td>...</td>\n",
       "    </tr>\n",
       "    <tr>\n",
       "      <th>619035</th>\n",
       "      <td>76.84</td>\n",
       "      <td>78.27</td>\n",
       "      <td>76.69</td>\n",
       "      <td>2982259</td>\n",
       "    </tr>\n",
       "    <tr>\n",
       "      <th>619036</th>\n",
       "      <td>77.53</td>\n",
       "      <td>78.12</td>\n",
       "      <td>76.73</td>\n",
       "      <td>2595187</td>\n",
       "    </tr>\n",
       "    <tr>\n",
       "      <th>619037</th>\n",
       "      <td>76.64</td>\n",
       "      <td>76.92</td>\n",
       "      <td>73.18</td>\n",
       "      <td>2962031</td>\n",
       "    </tr>\n",
       "    <tr>\n",
       "      <th>619038</th>\n",
       "      <td>72.74</td>\n",
       "      <td>74.56</td>\n",
       "      <td>72.13</td>\n",
       "      <td>4924323</td>\n",
       "    </tr>\n",
       "    <tr>\n",
       "      <th>619039</th>\n",
       "      <td>72.70</td>\n",
       "      <td>75.00</td>\n",
       "      <td>72.69</td>\n",
       "      <td>4534912</td>\n",
       "    </tr>\n",
       "  </tbody>\n",
       "</table>\n",
       "<p>619040 rows × 4 columns</p>\n",
       "</div>"
      ],
      "text/plain": [
       "         open   high    low    volume\n",
       "0       15.07  15.12  14.63   8407500\n",
       "1       14.89  15.01  14.26   8882000\n",
       "2       14.45  14.51  14.10   8126000\n",
       "3       14.30  14.94  14.25  10259500\n",
       "4       14.94  14.96  13.16  31879900\n",
       "...       ...    ...    ...       ...\n",
       "619035  76.84  78.27  76.69   2982259\n",
       "619036  77.53  78.12  76.73   2595187\n",
       "619037  76.64  76.92  73.18   2962031\n",
       "619038  72.74  74.56  72.13   4924323\n",
       "619039  72.70  75.00  72.69   4534912\n",
       "\n",
       "[619040 rows x 4 columns]"
      ]
     },
     "execution_count": 14,
     "metadata": {},
     "output_type": "execute_result"
    }
   ],
   "source": [
    "X"
   ]
  },
  {
   "cell_type": "code",
   "execution_count": 215,
   "id": "a2e1258c-9fe4-4b76-a189-fc0cb5b98e92",
   "metadata": {},
   "outputs": [
    {
     "data": {
      "image/png": "[encoded data removed]",
      "text/plain": [
       "<Figure size 1250x1250 with 30 Axes>"
      ]
     },
     "metadata": {},
     "output_type": "display_data"
    }
   ],
   "source": [
    "sns.pairplot(df)\n",
    "plt.show()"
   ]
  },
  {
   "cell_type": "code",
   "execution_count": 214,
   "id": "ea27e84e-b68d-49c3-a350-f7a3adf5ab1e",
   "metadata": {},
   "outputs": [
    {
     "data": {
      "text/plain": [
       "<Axes: xlabel='date', ylabel='close'>"
      ]
     },
     "execution_count": 214,
     "metadata": {},
     "output_type": "execute_result"
    },
    {
     "data": {
      "image/png": "[encoded data removed]",
      "text/plain": [
       "<Figure size 640x480 with 1 Axes>"
      ]
     },
     "metadata": {},
     "output_type": "display_data"
    }
   ],
   "source": [
    "sns.lineplot(data=df,x=\"date\",y=\"close\")"
   ]
  },
  {
   "cell_type": "code",
   "execution_count": 213,
   "id": "170f0f3e-d365-4ebd-9560-f71e6b9bd107",
   "metadata": {},
   "outputs": [
    {
     "data": {
      "image/png": "[encoded data removed]",
      "text/plain": [
       "<Figure size 640x480 with 1 Axes>"
      ]
     },
     "metadata": {},
     "output_type": "display_data"
    }
   ],
   "source": [
    "sns.boxplot(data=df[['open', 'high', 'low', 'close']])\n",
    "plt.title(\"Boxplot of Stock Prices\")\n",
    "plt.show()"
   ]
  },
  {
   "cell_type": "code",
   "execution_count": 18,
   "id": "3c57bb05-97d1-4eeb-b2f9-7fb1011da1ca",
   "metadata": {},
   "outputs": [
    {
     "name": "stdout",
     "output_type": "stream",
     "text": [
      "Mean_oclv open      8.302333e+01\n",
      "close     8.304376e+01\n",
      "low       8.225667e+01\n",
      "volume    4.321823e+06\n",
      "dtype: float64\n",
      "Sts_oclv open      9.737790e+01\n",
      "close     9.738975e+01\n",
      "low       9.650850e+01\n",
      "volume    8.693610e+06\n",
      "dtype: float64\n",
      "Max_oclv open      2.044000e+03\n",
      "close     2.049000e+03\n",
      "low       2.035110e+03\n",
      "volume    6.182376e+08\n",
      "dtype: float64\n",
      "Min_oclv open      1.62\n",
      "close     1.59\n",
      "low       1.50\n",
      "volume    0.00\n",
      "dtype: float64\n"
     ]
    }
   ],
   "source": [
    "#remove outlires\n",
    "print(\"Mean_oclv\",df[[\"open\",\"close\",\"low\",\"volume\"]].mean())\n",
    "print(\"Sts_oclv\",df[[\"open\",\"close\",\"low\",\"volume\"]].std())\n",
    "print(\"Max_oclv\",df[[\"open\",\"close\",\"low\",\"volume\"]].max())\n",
    "print(\"Min_oclv\",df[[\"open\",\"close\",\"low\",\"volume\"]].min())"
   ]
  },
  {
   "cell_type": "code",
   "execution_count": 19,
   "id": "99b46096-9383-4727-8959-eb916d32d88c",
   "metadata": {},
   "outputs": [
    {
     "name": "stdout",
     "output_type": "stream",
     "text": [
      "Mean_oclv 83.02333431454745\n",
      "Sts_oclv 97.37790385452799\n",
      "Max_oclv 2044.0\n",
      "Min_oclv 1.62\n"
     ]
    }
   ],
   "source": [
    "print(\"Mean_oclv\",df[\"open\"].mean())\n",
    "print(\"Sts_oclv\",df[\"open\"].std())\n",
    "print(\"Max_oclv\",df[\"open\"].max())\n",
    "print(\"Min_oclv\",df[\"open\"].min())"
   ]
  },
  {
   "cell_type": "code",
   "execution_count": 20,
   "id": "93346180-dd2e-419a-a9bb-d3104929554e",
   "metadata": {},
   "outputs": [
    {
     "name": "stdout",
     "output_type": "stream",
     "text": [
      "Highest Value Of Open 375.15704587813144\n",
      "lowest value of open -209.1103772490365\n"
     ]
    }
   ],
   "source": [
    "print(\"Highest Value Of Open\",df[\"open\"].mean()+3*df[\"open\"].std())\n",
    "print(\"lowest value of open\",df[\"open\"].mean()-3*df[\"open\"].std())"
   ]
  },
  {
   "cell_type": "code",
   "execution_count": 21,
   "id": "4e11ddcf-1c73-45b1-b8dc-9112afe22de6",
   "metadata": {},
   "outputs": [
    {
     "data": {
      "text/html": [
       "<div>\n",
       "<style scoped>\n",
       "    .dataframe tbody tr th:only-of-type {\n",
       "        vertical-align: middle;\n",
       "    }\n",
       "\n",
       "    .dataframe tbody tr th {\n",
       "        vertical-align: top;\n",
       "    }\n",
       "\n",
       "    .dataframe thead th {\n",
       "        text-align: right;\n",
       "    }\n",
       "</style>\n",
       "<table border=\"1\" class=\"dataframe\">\n",
       "  <thead>\n",
       "    <tr style=\"text-align: right;\">\n",
       "      <th></th>\n",
       "      <th>date</th>\n",
       "      <th>open</th>\n",
       "      <th>high</th>\n",
       "      <th>low</th>\n",
       "      <th>close</th>\n",
       "      <th>volume</th>\n",
       "      <th>Name</th>\n",
       "    </tr>\n",
       "  </thead>\n",
       "  <tbody>\n",
       "    <tr>\n",
       "      <th>46589</th>\n",
       "      <td>2013-11-26</td>\n",
       "      <td>377.61</td>\n",
       "      <td>382.5000</td>\n",
       "      <td>374.8175</td>\n",
       "      <td>381.37</td>\n",
       "      <td>2730689</td>\n",
       "      <td>AMZN</td>\n",
       "    </tr>\n",
       "    <tr>\n",
       "      <th>46590</th>\n",
       "      <td>2013-11-27</td>\n",
       "      <td>383.50</td>\n",
       "      <td>387.0000</td>\n",
       "      <td>382.6110</td>\n",
       "      <td>386.71</td>\n",
       "      <td>2269656</td>\n",
       "      <td>AMZN</td>\n",
       "    </tr>\n",
       "    <tr>\n",
       "      <th>46591</th>\n",
       "      <td>2013-11-29</td>\n",
       "      <td>389.10</td>\n",
       "      <td>394.0999</td>\n",
       "      <td>388.6200</td>\n",
       "      <td>393.62</td>\n",
       "      <td>2405985</td>\n",
       "      <td>AMZN</td>\n",
       "    </tr>\n",
       "    <tr>\n",
       "      <th>46592</th>\n",
       "      <td>2013-12-02</td>\n",
       "      <td>399.00</td>\n",
       "      <td>399.0000</td>\n",
       "      <td>389.1000</td>\n",
       "      <td>392.30</td>\n",
       "      <td>4718883</td>\n",
       "      <td>AMZN</td>\n",
       "    </tr>\n",
       "    <tr>\n",
       "      <th>46593</th>\n",
       "      <td>2013-12-03</td>\n",
       "      <td>390.11</td>\n",
       "      <td>390.9490</td>\n",
       "      <td>383.1000</td>\n",
       "      <td>384.66</td>\n",
       "      <td>3707536</td>\n",
       "      <td>AMZN</td>\n",
       "    </tr>\n",
       "    <tr>\n",
       "      <th>...</th>\n",
       "      <td>...</td>\n",
       "      <td>...</td>\n",
       "      <td>...</td>\n",
       "      <td>...</td>\n",
       "      <td>...</td>\n",
       "      <td>...</td>\n",
       "      <td>...</td>\n",
       "    </tr>\n",
       "    <tr>\n",
       "      <th>504442</th>\n",
       "      <td>2018-02-01</td>\n",
       "      <td>414.78</td>\n",
       "      <td>416.7600</td>\n",
       "      <td>408.3900</td>\n",
       "      <td>412.13</td>\n",
       "      <td>876285</td>\n",
       "      <td>SHW</td>\n",
       "    </tr>\n",
       "    <tr>\n",
       "      <th>504443</th>\n",
       "      <td>2018-02-02</td>\n",
       "      <td>411.90</td>\n",
       "      <td>413.7800</td>\n",
       "      <td>402.4600</td>\n",
       "      <td>403.13</td>\n",
       "      <td>660187</td>\n",
       "      <td>SHW</td>\n",
       "    </tr>\n",
       "    <tr>\n",
       "      <th>504444</th>\n",
       "      <td>2018-02-05</td>\n",
       "      <td>400.00</td>\n",
       "      <td>406.7200</td>\n",
       "      <td>393.2200</td>\n",
       "      <td>393.23</td>\n",
       "      <td>1192301</td>\n",
       "      <td>SHW</td>\n",
       "    </tr>\n",
       "    <tr>\n",
       "      <th>504445</th>\n",
       "      <td>2018-02-06</td>\n",
       "      <td>388.00</td>\n",
       "      <td>406.0400</td>\n",
       "      <td>383.8850</td>\n",
       "      <td>405.00</td>\n",
       "      <td>1057495</td>\n",
       "      <td>SHW</td>\n",
       "    </tr>\n",
       "    <tr>\n",
       "      <th>504446</th>\n",
       "      <td>2018-02-07</td>\n",
       "      <td>405.71</td>\n",
       "      <td>411.0000</td>\n",
       "      <td>402.6300</td>\n",
       "      <td>403.48</td>\n",
       "      <td>793075</td>\n",
       "      <td>SHW</td>\n",
       "    </tr>\n",
       "  </tbody>\n",
       "</table>\n",
       "<p>8514 rows × 7 columns</p>\n",
       "</div>"
      ],
      "text/plain": [
       "             date    open      high       low   close   volume  Name\n",
       "46589  2013-11-26  377.61  382.5000  374.8175  381.37  2730689  AMZN\n",
       "46590  2013-11-27  383.50  387.0000  382.6110  386.71  2269656  AMZN\n",
       "46591  2013-11-29  389.10  394.0999  388.6200  393.62  2405985  AMZN\n",
       "46592  2013-12-02  399.00  399.0000  389.1000  392.30  4718883  AMZN\n",
       "46593  2013-12-03  390.11  390.9490  383.1000  384.66  3707536  AMZN\n",
       "...           ...     ...       ...       ...     ...      ...   ...\n",
       "504442 2018-02-01  414.78  416.7600  408.3900  412.13   876285   SHW\n",
       "504443 2018-02-02  411.90  413.7800  402.4600  403.13   660187   SHW\n",
       "504444 2018-02-05  400.00  406.7200  393.2200  393.23  1192301   SHW\n",
       "504445 2018-02-06  388.00  406.0400  383.8850  405.00  1057495   SHW\n",
       "504446 2018-02-07  405.71  411.0000  402.6300  403.48   793075   SHW\n",
       "\n",
       "[8514 rows x 7 columns]"
      ]
     },
     "execution_count": 21,
     "metadata": {},
     "output_type": "execute_result"
    }
   ],
   "source": [
    "df[(df[\"open\"]>375.15) | (df[\"open\"]<-209.11)]"
   ]
  },
  {
   "cell_type": "code",
   "execution_count": 22,
   "id": "6c277100-3e30-4801-bcca-68a372022b94",
   "metadata": {},
   "outputs": [
    {
     "data": {
      "text/html": [
       "<div>\n",
       "<style scoped>\n",
       "    .dataframe tbody tr th:only-of-type {\n",
       "        vertical-align: middle;\n",
       "    }\n",
       "\n",
       "    .dataframe tbody tr th {\n",
       "        vertical-align: top;\n",
       "    }\n",
       "\n",
       "    .dataframe thead th {\n",
       "        text-align: right;\n",
       "    }\n",
       "</style>\n",
       "<table border=\"1\" class=\"dataframe\">\n",
       "  <thead>\n",
       "    <tr style=\"text-align: right;\">\n",
       "      <th></th>\n",
       "      <th>date</th>\n",
       "      <th>open</th>\n",
       "      <th>high</th>\n",
       "      <th>low</th>\n",
       "      <th>close</th>\n",
       "      <th>volume</th>\n",
       "      <th>Name</th>\n",
       "    </tr>\n",
       "  </thead>\n",
       "  <tbody>\n",
       "    <tr>\n",
       "      <th>0</th>\n",
       "      <td>2013-02-08</td>\n",
       "      <td>15.07</td>\n",
       "      <td>15.12</td>\n",
       "      <td>14.63</td>\n",
       "      <td>14.75</td>\n",
       "      <td>8407500</td>\n",
       "      <td>AAL</td>\n",
       "    </tr>\n",
       "    <tr>\n",
       "      <th>1</th>\n",
       "      <td>2013-02-11</td>\n",
       "      <td>14.89</td>\n",
       "      <td>15.01</td>\n",
       "      <td>14.26</td>\n",
       "      <td>14.46</td>\n",
       "      <td>8882000</td>\n",
       "      <td>AAL</td>\n",
       "    </tr>\n",
       "    <tr>\n",
       "      <th>2</th>\n",
       "      <td>2013-02-12</td>\n",
       "      <td>14.45</td>\n",
       "      <td>14.51</td>\n",
       "      <td>14.10</td>\n",
       "      <td>14.27</td>\n",
       "      <td>8126000</td>\n",
       "      <td>AAL</td>\n",
       "    </tr>\n",
       "    <tr>\n",
       "      <th>3</th>\n",
       "      <td>2013-02-13</td>\n",
       "      <td>14.30</td>\n",
       "      <td>14.94</td>\n",
       "      <td>14.25</td>\n",
       "      <td>14.66</td>\n",
       "      <td>10259500</td>\n",
       "      <td>AAL</td>\n",
       "    </tr>\n",
       "    <tr>\n",
       "      <th>4</th>\n",
       "      <td>2013-02-14</td>\n",
       "      <td>14.94</td>\n",
       "      <td>14.96</td>\n",
       "      <td>13.16</td>\n",
       "      <td>13.99</td>\n",
       "      <td>31879900</td>\n",
       "      <td>AAL</td>\n",
       "    </tr>\n",
       "    <tr>\n",
       "      <th>...</th>\n",
       "      <td>...</td>\n",
       "      <td>...</td>\n",
       "      <td>...</td>\n",
       "      <td>...</td>\n",
       "      <td>...</td>\n",
       "      <td>...</td>\n",
       "      <td>...</td>\n",
       "    </tr>\n",
       "    <tr>\n",
       "      <th>619035</th>\n",
       "      <td>2018-02-01</td>\n",
       "      <td>76.84</td>\n",
       "      <td>78.27</td>\n",
       "      <td>76.69</td>\n",
       "      <td>77.82</td>\n",
       "      <td>2982259</td>\n",
       "      <td>ZTS</td>\n",
       "    </tr>\n",
       "    <tr>\n",
       "      <th>619036</th>\n",
       "      <td>2018-02-02</td>\n",
       "      <td>77.53</td>\n",
       "      <td>78.12</td>\n",
       "      <td>76.73</td>\n",
       "      <td>76.78</td>\n",
       "      <td>2595187</td>\n",
       "      <td>ZTS</td>\n",
       "    </tr>\n",
       "    <tr>\n",
       "      <th>619037</th>\n",
       "      <td>2018-02-05</td>\n",
       "      <td>76.64</td>\n",
       "      <td>76.92</td>\n",
       "      <td>73.18</td>\n",
       "      <td>73.83</td>\n",
       "      <td>2962031</td>\n",
       "      <td>ZTS</td>\n",
       "    </tr>\n",
       "    <tr>\n",
       "      <th>619038</th>\n",
       "      <td>2018-02-06</td>\n",
       "      <td>72.74</td>\n",
       "      <td>74.56</td>\n",
       "      <td>72.13</td>\n",
       "      <td>73.27</td>\n",
       "      <td>4924323</td>\n",
       "      <td>ZTS</td>\n",
       "    </tr>\n",
       "    <tr>\n",
       "      <th>619039</th>\n",
       "      <td>2018-02-07</td>\n",
       "      <td>72.70</td>\n",
       "      <td>75.00</td>\n",
       "      <td>72.69</td>\n",
       "      <td>73.86</td>\n",
       "      <td>4534912</td>\n",
       "      <td>ZTS</td>\n",
       "    </tr>\n",
       "  </tbody>\n",
       "</table>\n",
       "<p>610526 rows × 7 columns</p>\n",
       "</div>"
      ],
      "text/plain": [
       "             date   open   high    low  close    volume Name\n",
       "0      2013-02-08  15.07  15.12  14.63  14.75   8407500  AAL\n",
       "1      2013-02-11  14.89  15.01  14.26  14.46   8882000  AAL\n",
       "2      2013-02-12  14.45  14.51  14.10  14.27   8126000  AAL\n",
       "3      2013-02-13  14.30  14.94  14.25  14.66  10259500  AAL\n",
       "4      2013-02-14  14.94  14.96  13.16  13.99  31879900  AAL\n",
       "...           ...    ...    ...    ...    ...       ...  ...\n",
       "619035 2018-02-01  76.84  78.27  76.69  77.82   2982259  ZTS\n",
       "619036 2018-02-02  77.53  78.12  76.73  76.78   2595187  ZTS\n",
       "619037 2018-02-05  76.64  76.92  73.18  73.83   2962031  ZTS\n",
       "619038 2018-02-06  72.74  74.56  72.13  73.27   4924323  ZTS\n",
       "619039 2018-02-07  72.70  75.00  72.69  73.86   4534912  ZTS\n",
       "\n",
       "[610526 rows x 7 columns]"
      ]
     },
     "execution_count": 22,
     "metadata": {},
     "output_type": "execute_result"
    }
   ],
   "source": [
    "new_df=df[(df[\"open\"]<375.15) & (df[\"open\"]>-209.11)]\n",
    "new_df"
   ]
  },
  {
   "cell_type": "code",
   "execution_count": 143,
   "id": "8fe227c4-92a1-40f9-861a-092c3b0f9bd7",
   "metadata": {},
   "outputs": [],
   "source": [
    "x = new_df[['open','high', 'low', 'volume']]\n",
    "y = new_df[\"close\"]"
   ]
  },
  {
   "cell_type": "code",
   "execution_count": 23,
   "id": "0b010718-7b1f-49ae-bc01-00967c138bf8",
   "metadata": {},
   "outputs": [
    {
     "data": {
      "text/plain": [
       "((619040, 7), (610526, 7))"
      ]
     },
     "execution_count": 23,
     "metadata": {},
     "output_type": "execute_result"
    }
   ],
   "source": [
    "df.shape, new_df.shape"
   ]
  },
  {
   "cell_type": "code",
   "execution_count": 147,
   "id": "4dfff8b3-d61d-40b5-abea-423ac4768613",
   "metadata": {},
   "outputs": [
    {
     "data": {
      "text/html": [
       "<div>\n",
       "<style scoped>\n",
       "    .dataframe tbody tr th:only-of-type {\n",
       "        vertical-align: middle;\n",
       "    }\n",
       "\n",
       "    .dataframe tbody tr th {\n",
       "        vertical-align: top;\n",
       "    }\n",
       "\n",
       "    .dataframe thead th {\n",
       "        text-align: right;\n",
       "    }\n",
       "</style>\n",
       "<table border=\"1\" class=\"dataframe\">\n",
       "  <thead>\n",
       "    <tr style=\"text-align: right;\">\n",
       "      <th></th>\n",
       "      <th>date</th>\n",
       "      <th>open</th>\n",
       "      <th>high</th>\n",
       "      <th>low</th>\n",
       "      <th>close</th>\n",
       "      <th>volume</th>\n",
       "      <th>Name</th>\n",
       "    </tr>\n",
       "  </thead>\n",
       "  <tbody>\n",
       "    <tr>\n",
       "      <th>0</th>\n",
       "      <td>2013-02-08</td>\n",
       "      <td>-0.697832</td>\n",
       "      <td>-0.699114</td>\n",
       "      <td>-0.700733</td>\n",
       "      <td>14.75</td>\n",
       "      <td>0.469964</td>\n",
       "      <td>AAL</td>\n",
       "    </tr>\n",
       "    <tr>\n",
       "      <th>1</th>\n",
       "      <td>2013-02-11</td>\n",
       "      <td>-0.699680</td>\n",
       "      <td>-0.700234</td>\n",
       "      <td>-0.704567</td>\n",
       "      <td>14.46</td>\n",
       "      <td>0.524544</td>\n",
       "      <td>AAL</td>\n",
       "    </tr>\n",
       "    <tr>\n",
       "      <th>2</th>\n",
       "      <td>2013-02-12</td>\n",
       "      <td>-0.704199</td>\n",
       "      <td>-0.705325</td>\n",
       "      <td>-0.706225</td>\n",
       "      <td>14.27</td>\n",
       "      <td>0.437583</td>\n",
       "      <td>AAL</td>\n",
       "    </tr>\n",
       "    <tr>\n",
       "      <th>3</th>\n",
       "      <td>2013-02-13</td>\n",
       "      <td>-0.705739</td>\n",
       "      <td>-0.700947</td>\n",
       "      <td>-0.704671</td>\n",
       "      <td>14.66</td>\n",
       "      <td>0.682994</td>\n",
       "      <td>AAL</td>\n",
       "    </tr>\n",
       "    <tr>\n",
       "      <th>4</th>\n",
       "      <td>2013-02-14</td>\n",
       "      <td>-0.699167</td>\n",
       "      <td>-0.700743</td>\n",
       "      <td>-0.715965</td>\n",
       "      <td>13.99</td>\n",
       "      <td>3.169926</td>\n",
       "      <td>AAL</td>\n",
       "    </tr>\n",
       "    <tr>\n",
       "      <th>...</th>\n",
       "      <td>...</td>\n",
       "      <td>...</td>\n",
       "      <td>...</td>\n",
       "      <td>...</td>\n",
       "      <td>...</td>\n",
       "      <td>...</td>\n",
       "      <td>...</td>\n",
       "    </tr>\n",
       "    <tr>\n",
       "      <th>619035</th>\n",
       "      <td>2018-02-01</td>\n",
       "      <td>-0.063498</td>\n",
       "      <td>-0.056094</td>\n",
       "      <td>-0.057681</td>\n",
       "      <td>77.82</td>\n",
       "      <td>-0.154086</td>\n",
       "      <td>ZTS</td>\n",
       "    </tr>\n",
       "    <tr>\n",
       "      <th>619036</th>\n",
       "      <td>2018-02-02</td>\n",
       "      <td>-0.056413</td>\n",
       "      <td>-0.057621</td>\n",
       "      <td>-0.057266</td>\n",
       "      <td>76.78</td>\n",
       "      <td>-0.198610</td>\n",
       "      <td>ZTS</td>\n",
       "    </tr>\n",
       "    <tr>\n",
       "      <th>619037</th>\n",
       "      <td>2018-02-05</td>\n",
       "      <td>-0.065552</td>\n",
       "      <td>-0.069840</td>\n",
       "      <td>-0.094051</td>\n",
       "      <td>73.83</td>\n",
       "      <td>-0.156413</td>\n",
       "      <td>ZTS</td>\n",
       "    </tr>\n",
       "    <tr>\n",
       "      <th>619038</th>\n",
       "      <td>2018-02-06</td>\n",
       "      <td>-0.105602</td>\n",
       "      <td>-0.093871</td>\n",
       "      <td>-0.104930</td>\n",
       "      <td>73.27</td>\n",
       "      <td>0.069304</td>\n",
       "      <td>ZTS</td>\n",
       "    </tr>\n",
       "    <tr>\n",
       "      <th>619039</th>\n",
       "      <td>2018-02-07</td>\n",
       "      <td>-0.106013</td>\n",
       "      <td>-0.089390</td>\n",
       "      <td>-0.099128</td>\n",
       "      <td>73.86</td>\n",
       "      <td>0.024511</td>\n",
       "      <td>ZTS</td>\n",
       "    </tr>\n",
       "  </tbody>\n",
       "</table>\n",
       "<p>619040 rows × 7 columns</p>\n",
       "</div>"
      ],
      "text/plain": [
       "             date      open      high       low  close    volume Name\n",
       "0      2013-02-08 -0.697832 -0.699114 -0.700733  14.75  0.469964  AAL\n",
       "1      2013-02-11 -0.699680 -0.700234 -0.704567  14.46  0.524544  AAL\n",
       "2      2013-02-12 -0.704199 -0.705325 -0.706225  14.27  0.437583  AAL\n",
       "3      2013-02-13 -0.705739 -0.700947 -0.704671  14.66  0.682994  AAL\n",
       "4      2013-02-14 -0.699167 -0.700743 -0.715965  13.99  3.169926  AAL\n",
       "...           ...       ...       ...       ...    ...       ...  ...\n",
       "619035 2018-02-01 -0.063498 -0.056094 -0.057681  77.82 -0.154086  ZTS\n",
       "619036 2018-02-02 -0.056413 -0.057621 -0.057266  76.78 -0.198610  ZTS\n",
       "619037 2018-02-05 -0.065552 -0.069840 -0.094051  73.83 -0.156413  ZTS\n",
       "619038 2018-02-06 -0.105602 -0.093871 -0.104930  73.27  0.069304  ZTS\n",
       "619039 2018-02-07 -0.106013 -0.089390 -0.099128  73.86  0.024511  ZTS\n",
       "\n",
       "[619040 rows x 7 columns]"
      ]
     },
     "execution_count": 147,
     "metadata": {},
     "output_type": "execute_result"
    }
   ],
   "source": [
    "df"
   ]
  },
  {
   "cell_type": "code",
   "execution_count": 145,
   "id": "a0116557-d468-4551-9bd7-f6197535badd",
   "metadata": {},
   "outputs": [],
   "source": [
    "z_scores = df[['high', 'low', 'volume']].apply(zscore)"
   ]
  },
  {
   "cell_type": "code",
   "execution_count": 225,
   "id": "7feffc6a-26a3-4005-a0df-24edb0fac9f9",
   "metadata": {},
   "outputs": [
    {
     "ename": "SyntaxError",
     "evalue": "closing parenthesis ')' does not match opening parenthesis '[' (2428381931.py, line 1)",
     "output_type": "error",
     "traceback": [
      "\u001b[1;36m  Cell \u001b[1;32mIn[225], line 1\u001b[1;36m\u001b[0m\n\u001b[1;33m    df_cleaned = df[(z_scores < 3)&df(z_scores > 3).all(axis=1))]\u001b[0m\n\u001b[1;37m                                                               ^\u001b[0m\n\u001b[1;31mSyntaxError\u001b[0m\u001b[1;31m:\u001b[0m closing parenthesis ')' does not match opening parenthesis '['\n"
     ]
    }
   ],
   "source": [
    "df_cleaned = df[(z_scores < 3)&df(z_scores > 3).all(axis=1)]\n"
   ]
  },
  {
   "cell_type": "code",
   "execution_count": 181,
   "id": "f73a0ed0-b9a8-431c-89d7-57e51a809424",
   "metadata": {},
   "outputs": [
    {
     "data": {
      "text/plain": [
       "(600887, 7)"
      ]
     },
     "execution_count": 181,
     "metadata": {},
     "output_type": "execute_result"
    }
   ],
   "source": [
    "df_cleaned.shape"
   ]
  },
  {
   "cell_type": "code",
   "execution_count": 183,
   "id": "4d41c6f5-6145-43d2-a117-170a20fd06f7",
   "metadata": {},
   "outputs": [],
   "source": [
    "x = df_cleaned[['open','high', 'low', 'volume']]\n",
    "y = df_cleaned[\"close\"]"
   ]
  },
  {
   "cell_type": "code",
   "execution_count": 185,
   "id": "3f661644-ca05-481e-8999-fb6d55f98792",
   "metadata": {},
   "outputs": [],
   "source": [
    "X_train,X_test,y_train,y_test=train_test_split(x,y,test_size=0.3,random_state=2)"
   ]
  },
  {
   "cell_type": "code",
   "execution_count": 187,
   "id": "1950b24d-963e-49e1-b314-171b77971ea0",
   "metadata": {},
   "outputs": [
    {
     "data": {
      "text/html": [
       "<div>\n",
       "<style scoped>\n",
       "    .dataframe tbody tr th:only-of-type {\n",
       "        vertical-align: middle;\n",
       "    }\n",
       "\n",
       "    .dataframe tbody tr th {\n",
       "        vertical-align: top;\n",
       "    }\n",
       "\n",
       "    .dataframe thead th {\n",
       "        text-align: right;\n",
       "    }\n",
       "</style>\n",
       "<table border=\"1\" class=\"dataframe\">\n",
       "  <thead>\n",
       "    <tr style=\"text-align: right;\">\n",
       "      <th></th>\n",
       "      <th>open</th>\n",
       "      <th>high</th>\n",
       "      <th>low</th>\n",
       "      <th>volume</th>\n",
       "    </tr>\n",
       "  </thead>\n",
       "  <tbody>\n",
       "    <tr>\n",
       "      <th>114828</th>\n",
       "      <td>-0.712928</td>\n",
       "      <td>-0.710620</td>\n",
       "      <td>-0.712753</td>\n",
       "      <td>1.494543</td>\n",
       "    </tr>\n",
       "    <tr>\n",
       "      <th>318641</th>\n",
       "      <td>-0.615883</td>\n",
       "      <td>-0.615924</td>\n",
       "      <td>-0.614316</td>\n",
       "      <td>-0.148413</td>\n",
       "    </tr>\n",
       "    <tr>\n",
       "      <th>5397</th>\n",
       "      <td>-0.105192</td>\n",
       "      <td>-0.104155</td>\n",
       "      <td>-0.101200</td>\n",
       "      <td>-0.350545</td>\n",
       "    </tr>\n",
       "    <tr>\n",
       "      <th>493181</th>\n",
       "      <td>-0.078081</td>\n",
       "      <td>-0.075033</td>\n",
       "      <td>-0.074778</td>\n",
       "      <td>-0.387957</td>\n",
       "    </tr>\n",
       "    <tr>\n",
       "      <th>266906</th>\n",
       "      <td>-0.124293</td>\n",
       "      <td>-0.116170</td>\n",
       "      <td>-0.122442</td>\n",
       "      <td>-0.086751</td>\n",
       "    </tr>\n",
       "    <tr>\n",
       "      <th>...</th>\n",
       "      <td>...</td>\n",
       "      <td>...</td>\n",
       "      <td>...</td>\n",
       "      <td>...</td>\n",
       "    </tr>\n",
       "    <tr>\n",
       "      <th>576094</th>\n",
       "      <td>-0.182314</td>\n",
       "      <td>-0.184494</td>\n",
       "      <td>-0.181090</td>\n",
       "      <td>-0.045364</td>\n",
       "    </tr>\n",
       "    <tr>\n",
       "      <th>89700</th>\n",
       "      <td>0.326837</td>\n",
       "      <td>0.326358</td>\n",
       "      <td>0.330990</td>\n",
       "      <td>-0.088562</td>\n",
       "    </tr>\n",
       "    <tr>\n",
       "      <th>454501</th>\n",
       "      <td>-0.317971</td>\n",
       "      <td>-0.318088</td>\n",
       "      <td>-0.314446</td>\n",
       "      <td>-0.464041</td>\n",
       "    </tr>\n",
       "    <tr>\n",
       "      <th>211187</th>\n",
       "      <td>-0.544203</td>\n",
       "      <td>-0.544749</td>\n",
       "      <td>-0.544063</td>\n",
       "      <td>0.199957</td>\n",
       "    </tr>\n",
       "    <tr>\n",
       "      <th>106177</th>\n",
       "      <td>-0.438430</td>\n",
       "      <td>-0.441601</td>\n",
       "      <td>-0.438891</td>\n",
       "      <td>0.171992</td>\n",
       "    </tr>\n",
       "  </tbody>\n",
       "</table>\n",
       "<p>420620 rows × 4 columns</p>\n",
       "</div>"
      ],
      "text/plain": [
       "            open      high       low    volume\n",
       "114828 -0.712928 -0.710620 -0.712753  1.494543\n",
       "318641 -0.615883 -0.615924 -0.614316 -0.148413\n",
       "5397   -0.105192 -0.104155 -0.101200 -0.350545\n",
       "493181 -0.078081 -0.075033 -0.074778 -0.387957\n",
       "266906 -0.124293 -0.116170 -0.122442 -0.086751\n",
       "...          ...       ...       ...       ...\n",
       "576094 -0.182314 -0.184494 -0.181090 -0.045364\n",
       "89700   0.326837  0.326358  0.330990 -0.088562\n",
       "454501 -0.317971 -0.318088 -0.314446 -0.464041\n",
       "211187 -0.544203 -0.544749 -0.544063  0.199957\n",
       "106177 -0.438430 -0.441601 -0.438891  0.171992\n",
       "\n",
       "[420620 rows x 4 columns]"
      ]
     },
     "execution_count": 187,
     "metadata": {},
     "output_type": "execute_result"
    }
   ],
   "source": [
    "X_train"
   ]
  },
  {
   "cell_type": "code",
   "execution_count": 189,
   "id": "4b429f9f-3d6e-423d-b230-c89e06aa2595",
   "metadata": {},
   "outputs": [
    {
     "data": {
      "text/html": [
       "<div>\n",
       "<style scoped>\n",
       "    .dataframe tbody tr th:only-of-type {\n",
       "        vertical-align: middle;\n",
       "    }\n",
       "\n",
       "    .dataframe tbody tr th {\n",
       "        vertical-align: top;\n",
       "    }\n",
       "\n",
       "    .dataframe thead th {\n",
       "        text-align: right;\n",
       "    }\n",
       "</style>\n",
       "<table border=\"1\" class=\"dataframe\">\n",
       "  <thead>\n",
       "    <tr style=\"text-align: right;\">\n",
       "      <th></th>\n",
       "      <th>open</th>\n",
       "      <th>high</th>\n",
       "      <th>low</th>\n",
       "      <th>volume</th>\n",
       "    </tr>\n",
       "  </thead>\n",
       "  <tbody>\n",
       "    <tr>\n",
       "      <th>477917</th>\n",
       "      <td>0.329918</td>\n",
       "      <td>0.353953</td>\n",
       "      <td>0.340212</td>\n",
       "      <td>-0.256894</td>\n",
       "    </tr>\n",
       "    <tr>\n",
       "      <th>379515</th>\n",
       "      <td>-0.315917</td>\n",
       "      <td>-0.318189</td>\n",
       "      <td>-0.316207</td>\n",
       "      <td>-0.080571</td>\n",
       "    </tr>\n",
       "    <tr>\n",
       "      <th>585880</th>\n",
       "      <td>-0.103446</td>\n",
       "      <td>-0.108509</td>\n",
       "      <td>-0.106381</td>\n",
       "      <td>0.213399</td>\n",
       "    </tr>\n",
       "    <tr>\n",
       "      <th>375633</th>\n",
       "      <td>1.006252</td>\n",
       "      <td>1.014487</td>\n",
       "      <td>1.019117</td>\n",
       "      <td>-0.447648</td>\n",
       "    </tr>\n",
       "    <tr>\n",
       "      <th>497466</th>\n",
       "      <td>0.341522</td>\n",
       "      <td>0.337152</td>\n",
       "      <td>0.330472</td>\n",
       "      <td>-0.310975</td>\n",
       "    </tr>\n",
       "    <tr>\n",
       "      <th>...</th>\n",
       "      <td>...</td>\n",
       "      <td>...</td>\n",
       "      <td>...</td>\n",
       "      <td>...</td>\n",
       "    </tr>\n",
       "    <tr>\n",
       "      <th>490072</th>\n",
       "      <td>0.134083</td>\n",
       "      <td>0.128412</td>\n",
       "      <td>0.113600</td>\n",
       "      <td>-0.283181</td>\n",
       "    </tr>\n",
       "    <tr>\n",
       "      <th>366153</th>\n",
       "      <td>0.758455</td>\n",
       "      <td>0.759814</td>\n",
       "      <td>0.770641</td>\n",
       "      <td>-0.160668</td>\n",
       "    </tr>\n",
       "    <tr>\n",
       "      <th>491942</th>\n",
       "      <td>-0.522792</td>\n",
       "      <td>-0.525351</td>\n",
       "      <td>-0.524060</td>\n",
       "      <td>-0.340125</td>\n",
       "    </tr>\n",
       "    <tr>\n",
       "      <th>421619</th>\n",
       "      <td>-0.352784</td>\n",
       "      <td>-0.356170</td>\n",
       "      <td>-0.356618</td>\n",
       "      <td>-0.269770</td>\n",
       "    </tr>\n",
       "    <tr>\n",
       "      <th>553722</th>\n",
       "      <td>-0.380716</td>\n",
       "      <td>-0.382237</td>\n",
       "      <td>-0.378668</td>\n",
       "      <td>-0.345536</td>\n",
       "    </tr>\n",
       "  </tbody>\n",
       "</table>\n",
       "<p>180267 rows × 4 columns</p>\n",
       "</div>"
      ],
      "text/plain": [
       "            open      high       low    volume\n",
       "477917  0.329918  0.353953  0.340212 -0.256894\n",
       "379515 -0.315917 -0.318189 -0.316207 -0.080571\n",
       "585880 -0.103446 -0.108509 -0.106381  0.213399\n",
       "375633  1.006252  1.014487  1.019117 -0.447648\n",
       "497466  0.341522  0.337152  0.330472 -0.310975\n",
       "...          ...       ...       ...       ...\n",
       "490072  0.134083  0.128412  0.113600 -0.283181\n",
       "366153  0.758455  0.759814  0.770641 -0.160668\n",
       "491942 -0.522792 -0.525351 -0.524060 -0.340125\n",
       "421619 -0.352784 -0.356170 -0.356618 -0.269770\n",
       "553722 -0.380716 -0.382237 -0.378668 -0.345536\n",
       "\n",
       "[180267 rows x 4 columns]"
      ]
     },
     "execution_count": 189,
     "metadata": {},
     "output_type": "execute_result"
    }
   ],
   "source": [
    "X_test"
   ]
  },
  {
   "cell_type": "code",
   "execution_count": 191,
   "id": "7be380cc-c71d-4ee0-9364-d660075537ed",
   "metadata": {},
   "outputs": [
    {
     "data": {
      "text/plain": [
       "114828     13.96\n",
       "318641     23.10\n",
       "5397       72.70\n",
       "493181     75.96\n",
       "266906     72.27\n",
       "           ...  \n",
       "576094     65.63\n",
       "89700     115.81\n",
       "454501     52.47\n",
       "211187     29.86\n",
       "106177     39.98\n",
       "Name: close, Length: 420620, dtype: float64"
      ]
     },
     "execution_count": 191,
     "metadata": {},
     "output_type": "execute_result"
    }
   ],
   "source": [
    "y_train"
   ]
  },
  {
   "cell_type": "code",
   "execution_count": 155,
   "id": "ff53b46a-dc86-4bf1-837f-90fce8633bc8",
   "metadata": {},
   "outputs": [
    {
     "data": {
      "text/plain": [
       "4473       60.230\n",
       "611416     61.350\n",
       "515794    162.610\n",
       "379915     73.420\n",
       "137679    135.200\n",
       "           ...   \n",
       "44032      92.160\n",
       "55465      84.160\n",
       "451641    112.620\n",
       "552557     44.890\n",
       "292466     48.916\n",
       "Name: close, Length: 183158, dtype: float64"
      ]
     },
     "execution_count": 155,
     "metadata": {},
     "output_type": "execute_result"
    }
   ],
   "source": [
    "y_test"
   ]
  },
  {
   "cell_type": "code",
   "execution_count": 193,
   "id": "47b33756-e44c-43e1-940d-d1356732b0c5",
   "metadata": {},
   "outputs": [],
   "source": [
    "lr=LinearRegression()"
   ]
  },
  {
   "cell_type": "code",
   "execution_count": 195,
   "id": "37baf3e9-3f35-483e-83f1-241b80115828",
   "metadata": {},
   "outputs": [
    {
     "data": {
      "text/html": [
       "<style>#sk-container-id-4 {\n",
       "  /* Definition of color scheme common for light and dark mode */\n",
       "  --sklearn-color-text: black;\n",
       "  --sklearn-color-line: gray;\n",
       "  /* Definition of color scheme for unfitted estimators */\n",
       "  --sklearn-color-unfitted-level-0: #fff5e6;\n",
       "  --sklearn-color-unfitted-level-1: #f6e4d2;\n",
       "  --sklearn-color-unfitted-level-2: #ffe0b3;\n",
       "  --sklearn-color-unfitted-level-3: chocolate;\n",
       "  /* Definition of color scheme for fitted estimators */\n",
       "  --sklearn-color-fitted-level-0: #f0f8ff;\n",
       "  --sklearn-color-fitted-level-1: #d4ebff;\n",
       "  --sklearn-color-fitted-level-2: #b3dbfd;\n",
       "  --sklearn-color-fitted-level-3: cornflowerblue;\n",
       "\n",
       "  /* Specific color for light theme */\n",
       "  --sklearn-color-text-on-default-background: var(--sg-text-color, var(--theme-code-foreground, var(--jp-content-font-color1, black)));\n",
       "  --sklearn-color-background: var(--sg-background-color, var(--theme-background, var(--jp-layout-color0, white)));\n",
       "  --sklearn-color-border-box: var(--sg-text-color, var(--theme-code-foreground, var(--jp-content-font-color1, black)));\n",
       "  --sklearn-color-icon: #696969;\n",
       "\n",
       "  @media (prefers-color-scheme: dark) {\n",
       "    /* Redefinition of color scheme for dark theme */\n",
       "    --sklearn-color-text-on-default-background: var(--sg-text-color, var(--theme-code-foreground, var(--jp-content-font-color1, white)));\n",
       "    --sklearn-color-background: var(--sg-background-color, var(--theme-background, var(--jp-layout-color0, #111)));\n",
       "    --sklearn-color-border-box: var(--sg-text-color, var(--theme-code-foreground, var(--jp-content-font-color1, white)));\n",
       "    --sklearn-color-icon: #878787;\n",
       "  }\n",
       "}\n",
       "\n",
       "#sk-container-id-4 {\n",
       "  color: var(--sklearn-color-text);\n",
       "}\n",
       "\n",
       "#sk-container-id-4 pre {\n",
       "  padding: 0;\n",
       "}\n",
       "\n",
       "#sk-container-id-4 input.sk-hidden--visually {\n",
       "  border: 0;\n",
       "  clip: rect(1px 1px 1px 1px);\n",
       "  clip: rect(1px, 1px, 1px, 1px);\n",
       "  height: 1px;\n",
       "  margin: -1px;\n",
       "  overflow: hidden;\n",
       "  padding: 0;\n",
       "  position: absolute;\n",
       "  width: 1px;\n",
       "}\n",
       "\n",
       "#sk-container-id-4 div.sk-dashed-wrapped {\n",
       "  border: 1px dashed var(--sklearn-color-line);\n",
       "  margin: 0 0.4em 0.5em 0.4em;\n",
       "  box-sizing: border-box;\n",
       "  padding-bottom: 0.4em;\n",
       "  background-color: var(--sklearn-color-background);\n",
       "}\n",
       "\n",
       "#sk-container-id-4 div.sk-container {\n",
       "  /* jupyter's `normalize.less` sets `[hidden] { display: none; }`\n",
       "     but bootstrap.min.css set `[hidden] { display: none !important; }`\n",
       "     so we also need the `!important` here to be able to override the\n",
       "     default hidden behavior on the sphinx rendered scikit-learn.org.\n",
       "     See: https://github.com/scikit-learn/scikit-learn/issues/21755 */\n",
       "  display: inline-block !important;\n",
       "  position: relative;\n",
       "}\n",
       "\n",
       "#sk-container-id-4 div.sk-text-repr-fallback {\n",
       "  display: none;\n",
       "}\n",
       "\n",
       "div.sk-parallel-item,\n",
       "div.sk-serial,\n",
       "div.sk-item {\n",
       "  /* draw centered vertical line to link estimators */\n",
       "  background-image: linear-gradient(var(--sklearn-color-text-on-default-background), var(--sklearn-color-text-on-default-background));\n",
       "  background-size: 2px 100%;\n",
       "  background-repeat: no-repeat;\n",
       "  background-position: center center;\n",
       "}\n",
       "\n",
       "/* Parallel-specific style estimator block */\n",
       "\n",
       "#sk-container-id-4 div.sk-parallel-item::after {\n",
       "  content: \"\";\n",
       "  width: 100%;\n",
       "  border-bottom: 2px solid var(--sklearn-color-text-on-default-background);\n",
       "  flex-grow: 1;\n",
       "}\n",
       "\n",
       "#sk-container-id-4 div.sk-parallel {\n",
       "  display: flex;\n",
       "  align-items: stretch;\n",
       "  justify-content: center;\n",
       "  background-color: var(--sklearn-color-background);\n",
       "  position: relative;\n",
       "}\n",
       "\n",
       "#sk-container-id-4 div.sk-parallel-item {\n",
       "  display: flex;\n",
       "  flex-direction: column;\n",
       "}\n",
       "\n",
       "#sk-container-id-4 div.sk-parallel-item:first-child::after {\n",
       "  align-self: flex-end;\n",
       "  width: 50%;\n",
       "}\n",
       "\n",
       "#sk-container-id-4 div.sk-parallel-item:last-child::after {\n",
       "  align-self: flex-start;\n",
       "  width: 50%;\n",
       "}\n",
       "\n",
       "#sk-container-id-4 div.sk-parallel-item:only-child::after {\n",
       "  width: 0;\n",
       "}\n",
       "\n",
       "/* Serial-specific style estimator block */\n",
       "\n",
       "#sk-container-id-4 div.sk-serial {\n",
       "  display: flex;\n",
       "  flex-direction: column;\n",
       "  align-items: center;\n",
       "  background-color: var(--sklearn-color-background);\n",
       "  padding-right: 1em;\n",
       "  padding-left: 1em;\n",
       "}\n",
       "\n",
       "\n",
       "/* Toggleable style: style used for estimator/Pipeline/ColumnTransformer box that is\n",
       "clickable and can be expanded/collapsed.\n",
       "- Pipeline and ColumnTransformer use this feature and define the default style\n",
       "- Estimators will overwrite some part of the style using the `sk-estimator` class\n",
       "*/\n",
       "\n",
       "/* Pipeline and ColumnTransformer style (default) */\n",
       "\n",
       "#sk-container-id-4 div.sk-toggleable {\n",
       "  /* Default theme specific background. It is overwritten whether we have a\n",
       "  specific estimator or a Pipeline/ColumnTransformer */\n",
       "  background-color: var(--sklearn-color-background);\n",
       "}\n",
       "\n",
       "/* Toggleable label */\n",
       "#sk-container-id-4 label.sk-toggleable__label {\n",
       "  cursor: pointer;\n",
       "  display: block;\n",
       "  width: 100%;\n",
       "  margin-bottom: 0;\n",
       "  padding: 0.5em;\n",
       "  box-sizing: border-box;\n",
       "  text-align: center;\n",
       "}\n",
       "\n",
       "#sk-container-id-4 label.sk-toggleable__label-arrow:before {\n",
       "  /* Arrow on the left of the label */\n",
       "  content: \"▸\";\n",
       "  float: left;\n",
       "  margin-right: 0.25em;\n",
       "  color: var(--sklearn-color-icon);\n",
       "}\n",
       "\n",
       "#sk-container-id-4 label.sk-toggleable__label-arrow:hover:before {\n",
       "  color: var(--sklearn-color-text);\n",
       "}\n",
       "\n",
       "/* Toggleable content - dropdown */\n",
       "\n",
       "#sk-container-id-4 div.sk-toggleable__content {\n",
       "  max-height: 0;\n",
       "  max-width: 0;\n",
       "  overflow: hidden;\n",
       "  text-align: left;\n",
       "  /* unfitted */\n",
       "  background-color: var(--sklearn-color-unfitted-level-0);\n",
       "}\n",
       "\n",
       "#sk-container-id-4 div.sk-toggleable__content.fitted {\n",
       "  /* fitted */\n",
       "  background-color: var(--sklearn-color-fitted-level-0);\n",
       "}\n",
       "\n",
       "#sk-container-id-4 div.sk-toggleable__content pre {\n",
       "  margin: 0.2em;\n",
       "  border-radius: 0.25em;\n",
       "  color: var(--sklearn-color-text);\n",
       "  /* unfitted */\n",
       "  background-color: var(--sklearn-color-unfitted-level-0);\n",
       "}\n",
       "\n",
       "#sk-container-id-4 div.sk-toggleable__content.fitted pre {\n",
       "  /* unfitted */\n",
       "  background-color: var(--sklearn-color-fitted-level-0);\n",
       "}\n",
       "\n",
       "#sk-container-id-4 input.sk-toggleable__control:checked~div.sk-toggleable__content {\n",
       "  /* Expand drop-down */\n",
       "  max-height: 200px;\n",
       "  max-width: 100%;\n",
       "  overflow: auto;\n",
       "}\n",
       "\n",
       "#sk-container-id-4 input.sk-toggleable__control:checked~label.sk-toggleable__label-arrow:before {\n",
       "  content: \"▾\";\n",
       "}\n",
       "\n",
       "/* Pipeline/ColumnTransformer-specific style */\n",
       "\n",
       "#sk-container-id-4 div.sk-label input.sk-toggleable__control:checked~label.sk-toggleable__label {\n",
       "  color: var(--sklearn-color-text);\n",
       "  background-color: var(--sklearn-color-unfitted-level-2);\n",
       "}\n",
       "\n",
       "#sk-container-id-4 div.sk-label.fitted input.sk-toggleable__control:checked~label.sk-toggleable__label {\n",
       "  background-color: var(--sklearn-color-fitted-level-2);\n",
       "}\n",
       "\n",
       "/* Estimator-specific style */\n",
       "\n",
       "/* Colorize estimator box */\n",
       "#sk-container-id-4 div.sk-estimator input.sk-toggleable__control:checked~label.sk-toggleable__label {\n",
       "  /* unfitted */\n",
       "  background-color: var(--sklearn-color-unfitted-level-2);\n",
       "}\n",
       "\n",
       "#sk-container-id-4 div.sk-estimator.fitted input.sk-toggleable__control:checked~label.sk-toggleable__label {\n",
       "  /* fitted */\n",
       "  background-color: var(--sklearn-color-fitted-level-2);\n",
       "}\n",
       "\n",
       "#sk-container-id-4 div.sk-label label.sk-toggleable__label,\n",
       "#sk-container-id-4 div.sk-label label {\n",
       "  /* The background is the default theme color */\n",
       "  color: var(--sklearn-color-text-on-default-background);\n",
       "}\n",
       "\n",
       "/* On hover, darken the color of the background */\n",
       "#sk-container-id-4 div.sk-label:hover label.sk-toggleable__label {\n",
       "  color: var(--sklearn-color-text);\n",
       "  background-color: var(--sklearn-color-unfitted-level-2);\n",
       "}\n",
       "\n",
       "/* Label box, darken color on hover, fitted */\n",
       "#sk-container-id-4 div.sk-label.fitted:hover label.sk-toggleable__label.fitted {\n",
       "  color: var(--sklearn-color-text);\n",
       "  background-color: var(--sklearn-color-fitted-level-2);\n",
       "}\n",
       "\n",
       "/* Estimator label */\n",
       "\n",
       "#sk-container-id-4 div.sk-label label {\n",
       "  font-family: monospace;\n",
       "  font-weight: bold;\n",
       "  display: inline-block;\n",
       "  line-height: 1.2em;\n",
       "}\n",
       "\n",
       "#sk-container-id-4 div.sk-label-container {\n",
       "  text-align: center;\n",
       "}\n",
       "\n",
       "/* Estimator-specific */\n",
       "#sk-container-id-4 div.sk-estimator {\n",
       "  font-family: monospace;\n",
       "  border: 1px dotted var(--sklearn-color-border-box);\n",
       "  border-radius: 0.25em;\n",
       "  box-sizing: border-box;\n",
       "  margin-bottom: 0.5em;\n",
       "  /* unfitted */\n",
       "  background-color: var(--sklearn-color-unfitted-level-0);\n",
       "}\n",
       "\n",
       "#sk-container-id-4 div.sk-estimator.fitted {\n",
       "  /* fitted */\n",
       "  background-color: var(--sklearn-color-fitted-level-0);\n",
       "}\n",
       "\n",
       "/* on hover */\n",
       "#sk-container-id-4 div.sk-estimator:hover {\n",
       "  /* unfitted */\n",
       "  background-color: var(--sklearn-color-unfitted-level-2);\n",
       "}\n",
       "\n",
       "#sk-container-id-4 div.sk-estimator.fitted:hover {\n",
       "  /* fitted */\n",
       "  background-color: var(--sklearn-color-fitted-level-2);\n",
       "}\n",
       "\n",
       "/* Specification for estimator info (e.g. \"i\" and \"?\") */\n",
       "\n",
       "/* Common style for \"i\" and \"?\" */\n",
       "\n",
       ".sk-estimator-doc-link,\n",
       "a:link.sk-estimator-doc-link,\n",
       "a:visited.sk-estimator-doc-link {\n",
       "  float: right;\n",
       "  font-size: smaller;\n",
       "  line-height: 1em;\n",
       "  font-family: monospace;\n",
       "  background-color: var(--sklearn-color-background);\n",
       "  border-radius: 1em;\n",
       "  height: 1em;\n",
       "  width: 1em;\n",
       "  text-decoration: none !important;\n",
       "  margin-left: 1ex;\n",
       "  /* unfitted */\n",
       "  border: var(--sklearn-color-unfitted-level-1) 1pt solid;\n",
       "  color: var(--sklearn-color-unfitted-level-1);\n",
       "}\n",
       "\n",
       ".sk-estimator-doc-link.fitted,\n",
       "a:link.sk-estimator-doc-link.fitted,\n",
       "a:visited.sk-estimator-doc-link.fitted {\n",
       "  /* fitted */\n",
       "  border: var(--sklearn-color-fitted-level-1) 1pt solid;\n",
       "  color: var(--sklearn-color-fitted-level-1);\n",
       "}\n",
       "\n",
       "/* On hover */\n",
       "div.sk-estimator:hover .sk-estimator-doc-link:hover,\n",
       ".sk-estimator-doc-link:hover,\n",
       "div.sk-label-container:hover .sk-estimator-doc-link:hover,\n",
       ".sk-estimator-doc-link:hover {\n",
       "  /* unfitted */\n",
       "  background-color: var(--sklearn-color-unfitted-level-3);\n",
       "  color: var(--sklearn-color-background);\n",
       "  text-decoration: none;\n",
       "}\n",
       "\n",
       "div.sk-estimator.fitted:hover .sk-estimator-doc-link.fitted:hover,\n",
       ".sk-estimator-doc-link.fitted:hover,\n",
       "div.sk-label-container:hover .sk-estimator-doc-link.fitted:hover,\n",
       ".sk-estimator-doc-link.fitted:hover {\n",
       "  /* fitted */\n",
       "  background-color: var(--sklearn-color-fitted-level-3);\n",
       "  color: var(--sklearn-color-background);\n",
       "  text-decoration: none;\n",
       "}\n",
       "\n",
       "/* Span, style for the box shown on hovering the info icon */\n",
       ".sk-estimator-doc-link span {\n",
       "  display: none;\n",
       "  z-index: 9999;\n",
       "  position: relative;\n",
       "  font-weight: normal;\n",
       "  right: .2ex;\n",
       "  padding: .5ex;\n",
       "  margin: .5ex;\n",
       "  width: min-content;\n",
       "  min-width: 20ex;\n",
       "  max-width: 50ex;\n",
       "  color: var(--sklearn-color-text);\n",
       "  box-shadow: 2pt 2pt 4pt #999;\n",
       "  /* unfitted */\n",
       "  background: var(--sklearn-color-unfitted-level-0);\n",
       "  border: .5pt solid var(--sklearn-color-unfitted-level-3);\n",
       "}\n",
       "\n",
       ".sk-estimator-doc-link.fitted span {\n",
       "  /* fitted */\n",
       "  background: var(--sklearn-color-fitted-level-0);\n",
       "  border: var(--sklearn-color-fitted-level-3);\n",
       "}\n",
       "\n",
       ".sk-estimator-doc-link:hover span {\n",
       "  display: block;\n",
       "}\n",
       "\n",
       "/* \"?\"-specific style due to the `<a>` HTML tag */\n",
       "\n",
       "#sk-container-id-4 a.estimator_doc_link {\n",
       "  float: right;\n",
       "  font-size: 1rem;\n",
       "  line-height: 1em;\n",
       "  font-family: monospace;\n",
       "  background-color: var(--sklearn-color-background);\n",
       "  border-radius: 1rem;\n",
       "  height: 1rem;\n",
       "  width: 1rem;\n",
       "  text-decoration: none;\n",
       "  /* unfitted */\n",
       "  color: var(--sklearn-color-unfitted-level-1);\n",
       "  border: var(--sklearn-color-unfitted-level-1) 1pt solid;\n",
       "}\n",
       "\n",
       "#sk-container-id-4 a.estimator_doc_link.fitted {\n",
       "  /* fitted */\n",
       "  border: var(--sklearn-color-fitted-level-1) 1pt solid;\n",
       "  color: var(--sklearn-color-fitted-level-1);\n",
       "}\n",
       "\n",
       "/* On hover */\n",
       "#sk-container-id-4 a.estimator_doc_link:hover {\n",
       "  /* unfitted */\n",
       "  background-color: var(--sklearn-color-unfitted-level-3);\n",
       "  color: var(--sklearn-color-background);\n",
       "  text-decoration: none;\n",
       "}\n",
       "\n",
       "#sk-container-id-4 a.estimator_doc_link.fitted:hover {\n",
       "  /* fitted */\n",
       "  background-color: var(--sklearn-color-fitted-level-3);\n",
       "}\n",
       "</style><div id=\"sk-container-id-4\" class=\"sk-top-container\"><div class=\"sk-text-repr-fallback\"><pre>LinearRegression()</pre><b>In a Jupyter environment, please rerun this cell to show the HTML representation or trust the notebook. <br />On GitHub, the HTML representation is unable to render, please try loading this page with nbviewer.org.</b></div><div class=\"sk-container\" hidden><div class=\"sk-item\"><div class=\"sk-estimator fitted sk-toggleable\"><input class=\"sk-toggleable__control sk-hidden--visually\" id=\"sk-estimator-id-4\" type=\"checkbox\" checked><label for=\"sk-estimator-id-4\" class=\"sk-toggleable__label fitted sk-toggleable__label-arrow fitted\">&nbsp;&nbsp;LinearRegression<a class=\"sk-estimator-doc-link fitted\" rel=\"noreferrer\" target=\"_blank\" href=\"https://scikit-learn.org/1.4/modules/generated/sklearn.linear_model.LinearRegression.html\">?<span>Documentation for LinearRegression</span></a><span class=\"sk-estimator-doc-link fitted\">i<span>Fitted</span></span></label><div class=\"sk-toggleable__content fitted\"><pre>LinearRegression()</pre></div> </div></div></div></div>"
      ],
      "text/plain": [
       "LinearRegression()"
      ]
     },
     "execution_count": 195,
     "metadata": {},
     "output_type": "execute_result"
    }
   ],
   "source": [
    "lr.fit(X_train,y_train)"
   ]
  },
  {
   "cell_type": "code",
   "execution_count": 197,
   "id": "9c1c3fef-4c88-4659-8ed4-b6c7ca0ddf33",
   "metadata": {},
   "outputs": [
    {
     "data": {
      "text/plain": [
       "477917    118.210\n",
       "379515     51.990\n",
       "585880     72.150\n",
       "375633    183.410\n",
       "497466    114.700\n",
       "           ...   \n",
       "490072     93.430\n",
       "366153    157.300\n",
       "491942     31.765\n",
       "421619     48.590\n",
       "553722     46.120\n",
       "Name: close, Length: 180267, dtype: float64"
      ]
     },
     "execution_count": 197,
     "metadata": {},
     "output_type": "execute_result"
    }
   ],
   "source": [
    "y_test"
   ]
  },
  {
   "cell_type": "code",
   "execution_count": 199,
   "id": "20be4116-dd95-4c2e-b509-b472e1a9b646",
   "metadata": {},
   "outputs": [
    {
     "data": {
      "text/plain": [
       "array([117.76425369,  52.08370392,  72.36677151, ...,  31.84807112,\n",
       "        48.15483034,  46.00132087])"
      ]
     },
     "execution_count": 199,
     "metadata": {},
     "output_type": "execute_result"
    }
   ],
   "source": [
    "Y_pred=lr.predict(X_test)\n",
    "Y_pred"
   ]
  },
  {
   "cell_type": "code",
   "execution_count": 201,
   "id": "4ea54a80-c46d-4fe5-8710-93c08992c23a",
   "metadata": {},
   "outputs": [
    {
     "data": {
      "text/plain": [
       "array([118.21 ,  51.99 ,  72.15 , ...,  31.765,  48.59 ,  46.12 ])"
      ]
     },
     "execution_count": 201,
     "metadata": {},
     "output_type": "execute_result"
    }
   ],
   "source": [
    "y_test.values"
   ]
  },
  {
   "cell_type": "code",
   "execution_count": 203,
   "id": "fc1a111d-5979-4cfd-ad55-ac980ea812bd",
   "metadata": {},
   "outputs": [
    {
     "name": "stdout",
     "output_type": "stream",
     "text": [
      "MAE 0.3072319425171377\n"
     ]
    }
   ],
   "source": [
    "print(\"MAE\",mean_absolute_error(y_test,Y_pred))"
   ]
  },
  {
   "cell_type": "code",
   "execution_count": 220,
   "id": "555fb3ab-6fa2-4367-9fb4-83b2d9c40977",
   "metadata": {},
   "outputs": [
    {
     "name": "stdout",
     "output_type": "stream",
     "text": [
      "MSE 0.26287790251387794\n"
     ]
    }
   ],
   "source": [
    "print(\"MSE\",mean_squared_error(y_test,Y_pred))"
   ]
  },
  {
   "cell_type": "code",
   "execution_count": 219,
   "id": "b4e60dd1-06f4-4304-b362-c1ea67f41ab1",
   "metadata": {},
   "outputs": [
    {
     "name": "stdout",
     "output_type": "stream",
     "text": [
      "MSE 0.9999000082574954\n"
     ]
    }
   ],
   "source": [
    "print(\"MSE\",r2_score(y_test,Y_pred))\n",
    "r2=r2_score(y_test,Y_pred)"
   ]
  },
  {
   "cell_type": "code",
   "execution_count": 218,
   "id": "76d01f16-6d36-47b7-8cac-36cee5971090",
   "metadata": {},
   "outputs": [
    {
     "data": {
      "text/plain": [
       "(180267, 4)"
      ]
     },
     "execution_count": 218,
     "metadata": {},
     "output_type": "execute_result"
    }
   ],
   "source": [
    "X_test.shape"
   ]
  },
  {
   "cell_type": "code",
   "execution_count": 217,
   "id": "3b3e3111-ec5a-478d-b857-03784ef31dd4",
   "metadata": {},
   "outputs": [
    {
     "data": {
      "text/plain": [
       "0.9999000061037425"
      ]
     },
     "execution_count": 217,
     "metadata": {},
     "output_type": "execute_result"
    }
   ],
   "source": [
    "1-((1-r2)*(185712-1)/(185712-4-1))"
   ]
  }
 ],
 "metadata": {
  "kernelspec": {
   "display_name": "Python 3 (ipykernel)",
   "language": "python",
   "name": "python3"
  },
  "language_info": {
   "codemirror_mode": {
    "name": "ipython",
    "version": 3
   },
   "file_extension": ".py",
   "mimetype": "text/x-python",
   "name": "python",
   "nbconvert_exporter": "python",
   "pygments_lexer": "ipython3",
   "version": "3.12.4"
  }
 },
 "nbformat": 4,
 "nbformat_minor": 5
}
