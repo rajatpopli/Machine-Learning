{
 "cells": [
  {
   "cell_type": "code",
   "execution_count": 1,
   "id": "f0924985-04c0-4a80-81b3-c63c7950ef0d",
   "metadata": {},
   "outputs": [],
   "source": [
    "import pandas as pd\n",
    "import numpy as np\n",
    "import matplotlib.pyplot as plt\n",
    "import seaborn as sns"
   ]
  },
  {
   "cell_type": "code",
   "execution_count": 2,
   "id": "ce9b55d3-b70c-4421-9ecb-ced80fa3f2ca",
   "metadata": {},
   "outputs": [
    {
     "data": {
      "text/html": [
       "<div>\n",
       "<style scoped>\n",
       "    .dataframe tbody tr th:only-of-type {\n",
       "        vertical-align: middle;\n",
       "    }\n",
       "\n",
       "    .dataframe tbody tr th {\n",
       "        vertical-align: top;\n",
       "    }\n",
       "\n",
       "    .dataframe thead th {\n",
       "        text-align: right;\n",
       "    }\n",
       "</style>\n",
       "<table border=\"1\" class=\"dataframe\">\n",
       "  <thead>\n",
       "    <tr style=\"text-align: right;\">\n",
       "      <th></th>\n",
       "      <th>State</th>\n",
       "      <th>Avg Daily Distance (km)</th>\n",
       "      <th>Brand</th>\n",
       "      <th>Model</th>\n",
       "      <th>Price (INR)</th>\n",
       "      <th>Year of Manufacture</th>\n",
       "      <th>Engine Capacity (cc)</th>\n",
       "      <th>Fuel Type</th>\n",
       "      <th>Mileage (km/l)</th>\n",
       "      <th>Owner Type</th>\n",
       "      <th>Registration Year</th>\n",
       "      <th>Insurance Status</th>\n",
       "      <th>Seller Type</th>\n",
       "      <th>Resale Price (INR)</th>\n",
       "      <th>City Tier</th>\n",
       "    </tr>\n",
       "  </thead>\n",
       "  <tbody>\n",
       "    <tr>\n",
       "      <th>0</th>\n",
       "      <td>Karnataka</td>\n",
       "      <td>68.84</td>\n",
       "      <td>Royal Enfield</td>\n",
       "      <td>Hunter 350</td>\n",
       "      <td>252816</td>\n",
       "      <td>2021</td>\n",
       "      <td>672</td>\n",
       "      <td>Electric</td>\n",
       "      <td>78.41</td>\n",
       "      <td>Second</td>\n",
       "      <td>2024</td>\n",
       "      <td>Active</td>\n",
       "      <td>Individual</td>\n",
       "      <td>149934.18</td>\n",
       "      <td>Tier 3</td>\n",
       "    </tr>\n",
       "    <tr>\n",
       "      <th>1</th>\n",
       "      <td>Rajasthan</td>\n",
       "      <td>23.80</td>\n",
       "      <td>Bajaj</td>\n",
       "      <td>Dominar 400</td>\n",
       "      <td>131100</td>\n",
       "      <td>2020</td>\n",
       "      <td>769</td>\n",
       "      <td>Hybrid</td>\n",
       "      <td>89.98</td>\n",
       "      <td>Third</td>\n",
       "      <td>2023</td>\n",
       "      <td>Active</td>\n",
       "      <td>Individual</td>\n",
       "      <td>66960.30</td>\n",
       "      <td>Tier 3</td>\n",
       "    </tr>\n",
       "    <tr>\n",
       "      <th>2</th>\n",
       "      <td>Madhya Pradesh</td>\n",
       "      <td>27.67</td>\n",
       "      <td>KTM</td>\n",
       "      <td>125 Duke</td>\n",
       "      <td>201016</td>\n",
       "      <td>2020</td>\n",
       "      <td>216</td>\n",
       "      <td>Hybrid</td>\n",
       "      <td>71.46</td>\n",
       "      <td>Second</td>\n",
       "      <td>2023</td>\n",
       "      <td>Active</td>\n",
       "      <td>Dealer</td>\n",
       "      <td>141522.64</td>\n",
       "      <td>Tier 3</td>\n",
       "    </tr>\n",
       "    <tr>\n",
       "      <th>3</th>\n",
       "      <td>Karnataka</td>\n",
       "      <td>62.85</td>\n",
       "      <td>Kawasaki</td>\n",
       "      <td>Ninja 300</td>\n",
       "      <td>132482</td>\n",
       "      <td>2021</td>\n",
       "      <td>556</td>\n",
       "      <td>Petrol</td>\n",
       "      <td>51.73</td>\n",
       "      <td>Third</td>\n",
       "      <td>2021</td>\n",
       "      <td>Active</td>\n",
       "      <td>Dealer</td>\n",
       "      <td>56057.22</td>\n",
       "      <td>Tier 1</td>\n",
       "    </tr>\n",
       "    <tr>\n",
       "      <th>4</th>\n",
       "      <td>Madhya Pradesh</td>\n",
       "      <td>10.62</td>\n",
       "      <td>Yamaha</td>\n",
       "      <td>FZ V3</td>\n",
       "      <td>231796</td>\n",
       "      <td>2019</td>\n",
       "      <td>298</td>\n",
       "      <td>Petrol</td>\n",
       "      <td>54.72</td>\n",
       "      <td>Third</td>\n",
       "      <td>2019</td>\n",
       "      <td>Not Available</td>\n",
       "      <td>Individual</td>\n",
       "      <td>132538.36</td>\n",
       "      <td>Tier 3</td>\n",
       "    </tr>\n",
       "  </tbody>\n",
       "</table>\n",
       "</div>"
      ],
      "text/plain": [
       "            State  Avg Daily Distance (km)          Brand        Model  \\\n",
       "0       Karnataka                    68.84  Royal Enfield   Hunter 350   \n",
       "1       Rajasthan                    23.80          Bajaj  Dominar 400   \n",
       "2  Madhya Pradesh                    27.67            KTM     125 Duke   \n",
       "3       Karnataka                    62.85       Kawasaki    Ninja 300   \n",
       "4  Madhya Pradesh                    10.62         Yamaha        FZ V3   \n",
       "\n",
       "   Price (INR)  Year of Manufacture  Engine Capacity (cc) Fuel Type  \\\n",
       "0       252816                 2021                   672  Electric   \n",
       "1       131100                 2020                   769    Hybrid   \n",
       "2       201016                 2020                   216    Hybrid   \n",
       "3       132482                 2021                   556    Petrol   \n",
       "4       231796                 2019                   298    Petrol   \n",
       "\n",
       "   Mileage (km/l) Owner Type  Registration Year Insurance Status Seller Type  \\\n",
       "0           78.41     Second               2024           Active  Individual   \n",
       "1           89.98      Third               2023           Active  Individual   \n",
       "2           71.46     Second               2023           Active      Dealer   \n",
       "3           51.73      Third               2021           Active      Dealer   \n",
       "4           54.72      Third               2019    Not Available  Individual   \n",
       "\n",
       "   Resale Price (INR) City Tier  \n",
       "0           149934.18    Tier 3  \n",
       "1            66960.30    Tier 3  \n",
       "2           141522.64    Tier 3  \n",
       "3            56057.22    Tier 1  \n",
       "4           132538.36    Tier 3  "
      ]
     },
     "execution_count": 2,
     "metadata": {},
     "output_type": "execute_result"
    }
   ],
   "source": [
    "df=pd.read_csv(\"bike_sales_india.csv\")\n",
    "df.head()"
   ]
  },
  {
   "cell_type": "code",
   "execution_count": 3,
   "id": "18be4d28-ed4d-4d6c-b849-bbd642bf77eb",
   "metadata": {},
   "outputs": [
    {
     "data": {
      "text/plain": [
       "State                      0\n",
       "Avg Daily Distance (km)    0\n",
       "Brand                      0\n",
       "Model                      0\n",
       "Price (INR)                0\n",
       "Year of Manufacture        0\n",
       "Engine Capacity (cc)       0\n",
       "Fuel Type                  0\n",
       "Mileage (km/l)             0\n",
       "Owner Type                 0\n",
       "Registration Year          0\n",
       "Insurance Status           0\n",
       "Seller Type                0\n",
       "Resale Price (INR)         0\n",
       "City Tier                  0\n",
       "dtype: int64"
      ]
     },
     "execution_count": 3,
     "metadata": {},
     "output_type": "execute_result"
    }
   ],
   "source": [
    "df.isnull().sum()"
   ]
  },
  {
   "cell_type": "code",
   "execution_count": 4,
   "id": "8e490321-e4c3-40eb-b18a-38ddfb96ef28",
   "metadata": {},
   "outputs": [
    {
     "name": "stdout",
     "output_type": "stream",
     "text": [
      "<class 'pandas.core.frame.DataFrame'>\n",
      "RangeIndex: 10000 entries, 0 to 9999\n",
      "Data columns (total 15 columns):\n",
      " #   Column                   Non-Null Count  Dtype  \n",
      "---  ------                   --------------  -----  \n",
      " 0   State                    10000 non-null  object \n",
      " 1   Avg Daily Distance (km)  10000 non-null  float64\n",
      " 2   Brand                    10000 non-null  object \n",
      " 3   Model                    10000 non-null  object \n",
      " 4   Price (INR)              10000 non-null  int64  \n",
      " 5   Year of Manufacture      10000 non-null  int64  \n",
      " 6   Engine Capacity (cc)     10000 non-null  int64  \n",
      " 7   Fuel Type                10000 non-null  object \n",
      " 8   Mileage (km/l)           10000 non-null  float64\n",
      " 9   Owner Type               10000 non-null  object \n",
      " 10  Registration Year        10000 non-null  int64  \n",
      " 11  Insurance Status         10000 non-null  object \n",
      " 12  Seller Type              10000 non-null  object \n",
      " 13  Resale Price (INR)       10000 non-null  float64\n",
      " 14  City Tier                10000 non-null  object \n",
      "dtypes: float64(3), int64(4), object(8)\n",
      "memory usage: 1.1+ MB\n"
     ]
    }
   ],
   "source": [
    "df.info()"
   ]
  },
  {
   "cell_type": "code",
   "execution_count": 5,
   "id": "d8d58532-4986-4ac7-b29e-404beea838cb",
   "metadata": {},
   "outputs": [
    {
     "data": {
      "text/html": [
       "<div>\n",
       "<style scoped>\n",
       "    .dataframe tbody tr th:only-of-type {\n",
       "        vertical-align: middle;\n",
       "    }\n",
       "\n",
       "    .dataframe tbody tr th {\n",
       "        vertical-align: top;\n",
       "    }\n",
       "\n",
       "    .dataframe thead th {\n",
       "        text-align: right;\n",
       "    }\n",
       "</style>\n",
       "<table border=\"1\" class=\"dataframe\">\n",
       "  <thead>\n",
       "    <tr style=\"text-align: right;\">\n",
       "      <th></th>\n",
       "      <th>Avg Daily Distance (km)</th>\n",
       "      <th>Price (INR)</th>\n",
       "      <th>Year of Manufacture</th>\n",
       "      <th>Engine Capacity (cc)</th>\n",
       "      <th>Mileage (km/l)</th>\n",
       "      <th>Registration Year</th>\n",
       "      <th>Resale Price (INR)</th>\n",
       "    </tr>\n",
       "  </thead>\n",
       "  <tbody>\n",
       "    <tr>\n",
       "      <th>count</th>\n",
       "      <td>10000.000000</td>\n",
       "      <td>10000.000000</td>\n",
       "      <td>10000.000000</td>\n",
       "      <td>10000.000000</td>\n",
       "      <td>10000.000000</td>\n",
       "      <td>10000.00000</td>\n",
       "      <td>10000.000000</td>\n",
       "    </tr>\n",
       "    <tr>\n",
       "      <th>mean</th>\n",
       "      <td>42.533128</td>\n",
       "      <td>224328.722400</td>\n",
       "      <td>2019.510500</td>\n",
       "      <td>552.695300</td>\n",
       "      <td>67.188926</td>\n",
       "      <td>2020.96510</td>\n",
       "      <td>133828.973998</td>\n",
       "    </tr>\n",
       "    <tr>\n",
       "      <th>std</th>\n",
       "      <td>21.676985</td>\n",
       "      <td>100753.660447</td>\n",
       "      <td>2.907668</td>\n",
       "      <td>261.176292</td>\n",
       "      <td>20.891728</td>\n",
       "      <td>2.74897</td>\n",
       "      <td>66613.220382</td>\n",
       "    </tr>\n",
       "    <tr>\n",
       "      <th>min</th>\n",
       "      <td>5.010000</td>\n",
       "      <td>50031.000000</td>\n",
       "      <td>2015.000000</td>\n",
       "      <td>100.000000</td>\n",
       "      <td>25.000000</td>\n",
       "      <td>2015.00000</td>\n",
       "      <td>20532.070000</td>\n",
       "    </tr>\n",
       "    <tr>\n",
       "      <th>25%</th>\n",
       "      <td>23.907500</td>\n",
       "      <td>137900.250000</td>\n",
       "      <td>2017.000000</td>\n",
       "      <td>327.000000</td>\n",
       "      <td>50.680000</td>\n",
       "      <td>2019.00000</td>\n",
       "      <td>78680.905000</td>\n",
       "    </tr>\n",
       "    <tr>\n",
       "      <th>50%</th>\n",
       "      <td>42.480000</td>\n",
       "      <td>223878.000000</td>\n",
       "      <td>2019.000000</td>\n",
       "      <td>553.000000</td>\n",
       "      <td>69.850000</td>\n",
       "      <td>2022.00000</td>\n",
       "      <td>128148.340000</td>\n",
       "    </tr>\n",
       "    <tr>\n",
       "      <th>75%</th>\n",
       "      <td>61.352500</td>\n",
       "      <td>311464.250000</td>\n",
       "      <td>2022.000000</td>\n",
       "      <td>780.000000</td>\n",
       "      <td>84.542500</td>\n",
       "      <td>2023.00000</td>\n",
       "      <td>181048.192500</td>\n",
       "    </tr>\n",
       "    <tr>\n",
       "      <th>max</th>\n",
       "      <td>80.000000</td>\n",
       "      <td>399981.000000</td>\n",
       "      <td>2024.000000</td>\n",
       "      <td>1000.000000</td>\n",
       "      <td>100.000000</td>\n",
       "      <td>2024.00000</td>\n",
       "      <td>317302.450000</td>\n",
       "    </tr>\n",
       "  </tbody>\n",
       "</table>\n",
       "</div>"
      ],
      "text/plain": [
       "       Avg Daily Distance (km)    Price (INR)  Year of Manufacture  \\\n",
       "count             10000.000000   10000.000000         10000.000000   \n",
       "mean                 42.533128  224328.722400          2019.510500   \n",
       "std                  21.676985  100753.660447             2.907668   \n",
       "min                   5.010000   50031.000000          2015.000000   \n",
       "25%                  23.907500  137900.250000          2017.000000   \n",
       "50%                  42.480000  223878.000000          2019.000000   \n",
       "75%                  61.352500  311464.250000          2022.000000   \n",
       "max                  80.000000  399981.000000          2024.000000   \n",
       "\n",
       "       Engine Capacity (cc)  Mileage (km/l)  Registration Year  \\\n",
       "count          10000.000000    10000.000000        10000.00000   \n",
       "mean             552.695300       67.188926         2020.96510   \n",
       "std              261.176292       20.891728            2.74897   \n",
       "min              100.000000       25.000000         2015.00000   \n",
       "25%              327.000000       50.680000         2019.00000   \n",
       "50%              553.000000       69.850000         2022.00000   \n",
       "75%              780.000000       84.542500         2023.00000   \n",
       "max             1000.000000      100.000000         2024.00000   \n",
       "\n",
       "       Resale Price (INR)  \n",
       "count        10000.000000  \n",
       "mean        133828.973998  \n",
       "std          66613.220382  \n",
       "min          20532.070000  \n",
       "25%          78680.905000  \n",
       "50%         128148.340000  \n",
       "75%         181048.192500  \n",
       "max         317302.450000  "
      ]
     },
     "execution_count": 5,
     "metadata": {},
     "output_type": "execute_result"
    }
   ],
   "source": [
    "df.describe()"
   ]
  },
  {
   "cell_type": "code",
   "execution_count": 6,
   "id": "19da6e00-5d50-449c-945c-a99d61a468f9",
   "metadata": {},
   "outputs": [
    {
     "data": {
      "text/plain": [
       "(10000, 15)"
      ]
     },
     "execution_count": 6,
     "metadata": {},
     "output_type": "execute_result"
    }
   ],
   "source": [
    "df.shape"
   ]
  },
  {
   "cell_type": "code",
   "execution_count": 12,
   "id": "8473c601-0ffd-4cd3-943b-c84ad03694e3",
   "metadata": {},
   "outputs": [
    {
     "name": "stderr",
     "output_type": "stream",
     "text": [
      "C:\\Users\\rajat\\AppData\\Local\\Temp\\ipykernel_10512\\338690289.py:2: FutureWarning: \n",
      "\n",
      "Passing `palette` without assigning `hue` is deprecated and will be removed in v0.14.0. Assign the `x` variable to `hue` and set `legend=False` for the same effect.\n",
      "\n",
      "  sns.barplot(data=df,x=\"Brand\",y=\"Price (INR)\",palette=\"coolwarm\")\n"
     ]
    },
    {
     "data": {
      "text/plain": [
       "<Axes: xlabel='Brand', ylabel='Price (INR)'>"
      ]
     },
     "execution_count": 12,
     "metadata": {},
     "output_type": "execute_result"
    },
    {
     "data": {
      "image/png": "[encoded data removed]",
      "text/plain": [
       "<Figure size 1200x600 with 1 Axes>"
      ]
     },
     "metadata": {},
     "output_type": "display_data"
    }
   ],
   "source": [
    "plt.figure(figsize=(12,6))\n",
    "sns.barplot(data=df,x=\"Brand\",y=\"Price (INR)\",palette=\"coolwarm\")"
   ]
  },
  {
   "cell_type": "code",
   "execution_count": 22,
   "id": "f1379fde-24e8-4482-a2cc-e52239d657eb",
   "metadata": {},
   "outputs": [
    {
     "name": "stderr",
     "output_type": "stream",
     "text": [
      "C:\\Users\\rajat\\AppData\\Local\\Temp\\ipykernel_10512\\3895164668.py:1: FutureWarning: \n",
      "\n",
      "Passing `palette` without assigning `hue` is deprecated and will be removed in v0.14.0. Assign the `x` variable to `hue` and set `legend=False` for the same effect.\n",
      "\n",
      "  sns.boxplot(data=df,x=\"Brand\",y=\"Price (INR)\",palette=\"pastel\")\n"
     ]
    },
    {
     "data": {
      "text/plain": [
       "<Axes: xlabel='Brand', ylabel='Price (INR)'>"
      ]
     },
     "execution_count": 22,
     "metadata": {},
     "output_type": "execute_result"
    },
    {
     "data": {
      "image/png": "[encoded data removed]",
      "text/plain": [
       "<Figure size 640x480 with 1 Axes>"
      ]
     },
     "metadata": {},
     "output_type": "display_data"
    }
   ],
   "source": [
    "sns.boxplot(data=df,x=\"Brand\",y=\"Price (INR)\",palette=\"pastel\")"
   ]
  },
  {
   "cell_type": "code",
   "execution_count": 18,
   "id": "a527e9c3-ceb6-424a-bf0c-1f13cb19a0d8",
   "metadata": {},
   "outputs": [
    {
     "data": {
      "text/plain": [
       "<Axes: xlabel='Fuel Type', ylabel='count'>"
      ]
     },
     "execution_count": 18,
     "metadata": {},
     "output_type": "execute_result"
    },
    {
     "data": {
      "image/png": "[encoded data removed]",
      "text/plain": [
       "<Figure size 640x480 with 1 Axes>"
      ]
     },
     "metadata": {},
     "output_type": "display_data"
    }
   ],
   "source": [
    "sns.countplot(data=df,x=\"Fuel Type\")"
   ]
  },
  {
   "cell_type": "code",
   "execution_count": 26,
   "id": "4e015531-52dc-4e2a-b0a6-d7d146c8e1a5",
   "metadata": {},
   "outputs": [
    {
     "name": "stderr",
     "output_type": "stream",
     "text": [
      "C:\\Users\\rajat\\AppData\\Local\\Temp\\ipykernel_10512\\3655268761.py:1: FutureWarning: \n",
      "\n",
      "Passing `palette` without assigning `hue` is deprecated and will be removed in v0.14.0. Assign the `x` variable to `hue` and set `legend=False` for the same effect.\n",
      "\n",
      "  sns.boxplot(data=df,x=\"City Tier\",y=\"Price (INR)\",palette=\"husl\")\n"
     ]
    },
    {
     "data": {
      "text/plain": [
       "<Axes: xlabel='City Tier', ylabel='Price (INR)'>"
      ]
     },
     "execution_count": 26,
     "metadata": {},
     "output_type": "execute_result"
    },
    {
     "data": {
      "image/png": "[encoded data removed]",
      "text/plain": [
       "<Figure size 640x480 with 1 Axes>"
      ]
     },
     "metadata": {},
     "output_type": "display_data"
    }
   ],
   "source": [
    "sns.boxplot(data=df,x=\"City Tier\",y=\"Price (INR)\",palette=\"husl\")"
   ]
  }
 ],
 "metadata": {
  "kernelspec": {
   "display_name": "Python 3 (ipykernel)",
   "language": "python",
   "name": "python3"
  },
  "language_info": {
   "codemirror_mode": {
    "name": "ipython",
    "version": 3
   },
   "file_extension": ".py",
   "mimetype": "text/x-python",
   "name": "python",
   "nbconvert_exporter": "python",
   "pygments_lexer": "ipython3",
   "version": "3.12.4"
  }
 },
 "nbformat": 4,
 "nbformat_minor": 5
}
